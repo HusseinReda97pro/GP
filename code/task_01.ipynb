{
 "cells": [
  {
   "cell_type": "markdown",
   "metadata": {},
   "source": [
    "## Pandas (read data)"
   ]
  },
  {
   "cell_type": "code",
   "execution_count": 1,
   "metadata": {},
   "outputs": [],
   "source": [
    "import pandas as pd"
   ]
  },
  {
   "cell_type": "code",
   "execution_count": 2,
   "metadata": {},
   "outputs": [
    {
     "name": "stdout",
     "output_type": "stream",
     "text": [
      "<bound method NDFrame.head of                                                answer  grad\n",
      "0   white::  I chose the color white for the dogho...     2\n",
      "1   dark gray :: I chose dark gray because it woul...     2\n",
      "2   black :: i chose the black color becasue that ...     2\n",
      "3   white ::  While using white for the dog house ...     2\n",
      "4   black :: Black because in the eperiment black ...     2\n",
      "5   white :: this color might make the interior of...     1\n",
      "6   black :: A dark color like black will affect t...     1\n",
      "7   white :: The white color does not absorb as mu...     1\n",
      "8   dark gray ::  i picked dark gray because it st...     1\n",
      "9   light gray :: the inside wont be too hot nor t...     1\n",
      "10          white :: white duns not atat so mush heat     0\n",
      "11  white :: The color white Absorbs the least amo...     0\n",
      "12  white :: The color of the doghouse is white be...     0\n",
      "13  light gray :: Different color affect the dogho...     0\n",
      "14  light gray :: Light gray because the dog will ...     0>\n"
     ]
    }
   ],
   "source": [
    "df = pd.read_csv('task_01.csv')\n",
    "print(df.head)"
   ]
  },
  {
   "cell_type": "code",
   "execution_count": 3,
   "metadata": {},
   "outputs": [
    {
     "name": "stdout",
     "output_type": "stream",
     "text": [
      "(15, 2)\n"
     ]
    }
   ],
   "source": [
    "print(df.shape)"
   ]
  },
  {
   "cell_type": "markdown",
   "metadata": {},
   "source": [
    "## Preparing Model Answer and Students Answers"
   ]
  },
  {
   "cell_type": "code",
   "execution_count": 4,
   "metadata": {},
   "outputs": [
    {
     "name": "stdout",
     "output_type": "stream",
     "text": [
      "<class 'pandas.core.series.Series'>\n"
     ]
    }
   ],
   "source": [
    "model_answer = 'light gray ::  Painting the doghouse light gray would keep t he doghouse cool in the summer but warmer in the winter. I know this beca use the data tells you that the lighter the color of the glass jar, the c ooler the inside of the jar is and the darker the lid is the higher the t emparature while be in the glass jar'\n",
    "\n",
    "answers = df['answer']\n",
    "print(type(answers))"
   ]
  },
  {
   "cell_type": "markdown",
   "metadata": {},
   "source": [
    "## spaCy semantic similarity"
   ]
  },
  {
   "cell_type": "code",
   "execution_count": 32,
   "metadata": {},
   "outputs": [],
   "source": [
    "import spacy\n",
    "nlp = spacy.load('en_core_web_lg')"
   ]
  },
  {
   "cell_type": "code",
   "execution_count": 6,
   "metadata": {},
   "outputs": [
    {
     "name": "stdout",
     "output_type": "stream",
     "text": [
      "2.94\n",
      "2.86\n",
      "2.75\n",
      "2.85\n",
      "2.80\n",
      "2.71\n",
      "2.83\n",
      "2.82\n",
      "2.83\n",
      "2.67\n",
      "2.04\n",
      "2.84\n",
      "2.80\n",
      "2.66\n",
      "2.77\n"
     ]
    }
   ],
   "source": [
    "model_answer_doc = nlp(model_answer)\n",
    "\n",
    "for answer in answers:\n",
    "    doc = nlp(answer)\n",
    "    ratio = doc.similarity(model_answer_doc)\n",
    "    print('%.2f' % (ratio*3))\n",
    "\n",
    "# not soo bad"
   ]
  },
  {
   "cell_type": "markdown",
   "metadata": {},
   "source": [
    "## Cosine Similartiy: Euclidean distance approach\n",
    "### (counting the maximum number of common words between the documents)"
   ]
  },
  {
   "cell_type": "code",
   "execution_count": 54,
   "metadata": {},
   "outputs": [],
   "source": [
    "import sklearn.metrics.pairwise as pw\n",
    "from sklearn.metrics.pairwise import cosine_similarity\n",
    "\n",
    "from sklearn.feature_extraction.text import TfidfVectorizer\n",
    "tfidf_vectorizer = TfidfVectorizer()\n",
    "\n",
    "from sklearn.feature_extraction.text import CountVectorizer\n",
    "count_vectorizer = CountVectorizer()"
   ]
  },
  {
   "cell_type": "code",
   "execution_count": 8,
   "metadata": {},
   "outputs": [
    {
     "name": "stdout",
     "output_type": "stream",
     "text": [
      "          11        42        47        48        52        53        54  \\\n",
      "0   0.070934  0.061774  0.000000  0.000000  0.000000  0.061774  0.000000   \n",
      "1   0.000000  0.000000  0.266403  0.133201  0.000000  0.000000  0.000000   \n",
      "2   0.000000  0.000000  0.000000  0.000000  0.130525  0.227341  0.130525   \n",
      "3   0.000000  0.000000  0.000000  0.000000  0.000000  0.000000  0.000000   \n",
      "4   0.000000  0.000000  0.000000  0.000000  0.000000  0.000000  0.000000   \n",
      "5   0.000000  0.000000  0.000000  0.000000  0.000000  0.000000  0.000000   \n",
      "6   0.000000  0.000000  0.000000  0.000000  0.000000  0.000000  0.000000   \n",
      "7   0.000000  0.212825  0.000000  0.000000  0.000000  0.000000  0.000000   \n",
      "8   0.000000  0.000000  0.000000  0.000000  0.000000  0.000000  0.000000   \n",
      "9   0.000000  0.000000  0.000000  0.000000  0.000000  0.000000  0.000000   \n",
      "10  0.000000  0.000000  0.000000  0.000000  0.000000  0.000000  0.000000   \n",
      "11  0.000000  0.000000  0.000000  0.000000  0.000000  0.000000  0.000000   \n",
      "12  0.000000  0.000000  0.000000  0.000000  0.000000  0.000000  0.000000   \n",
      "13  0.000000  0.000000  0.000000  0.000000  0.000000  0.000000  0.000000   \n",
      "14  0.000000  0.000000  0.000000  0.000000  0.000000  0.000000  0.000000   \n",
      "15  0.000000  0.000000  0.000000  0.000000  0.000000  0.000000  0.000000   \n",
      "\n",
      "       about    absorb   absorbs  ...      when     while     white       why  \\\n",
      "0   0.000000  0.000000  0.000000  ...  0.055275  0.000000  0.158470  0.000000   \n",
      "1   0.000000  0.000000  0.000000  ...  0.000000  0.000000  0.000000  0.133201   \n",
      "2   0.000000  0.000000  0.000000  ...  0.101712  0.000000  0.000000  0.000000   \n",
      "3   0.000000  0.000000  0.000000  ...  0.000000  0.130175  0.250454  0.000000   \n",
      "4   0.000000  0.000000  0.000000  ...  0.000000  0.000000  0.000000  0.000000   \n",
      "5   0.000000  0.000000  0.000000  ...  0.000000  0.000000  0.205684  0.000000   \n",
      "6   0.000000  0.193622  0.000000  ...  0.000000  0.000000  0.000000  0.000000   \n",
      "7   0.244381  0.212825  0.000000  ...  0.190436  0.000000  0.272981  0.000000   \n",
      "8   0.000000  0.000000  0.000000  ...  0.000000  0.000000  0.000000  0.000000   \n",
      "9   0.000000  0.000000  0.000000  ...  0.000000  0.000000  0.000000  0.000000   \n",
      "10  0.000000  0.000000  0.000000  ...  0.000000  0.000000  0.466700  0.000000   \n",
      "11  0.000000  0.000000  0.226717  ...  0.000000  0.000000  0.379875  0.000000   \n",
      "12  0.000000  0.000000  0.000000  ...  0.000000  0.000000  0.320703  0.000000   \n",
      "13  0.000000  0.000000  0.000000  ...  0.000000  0.000000  0.000000  0.000000   \n",
      "14  0.000000  0.000000  0.000000  ...  0.000000  0.000000  0.000000  0.000000   \n",
      "15  0.000000  0.000000  0.000000  ...  0.000000  0.106348  0.000000  0.000000   \n",
      "\n",
      "        will    winter      with      wont     would       you  \n",
      "0   0.000000  0.000000  0.141867  0.000000  0.138348  0.000000  \n",
      "1   0.000000  0.000000  0.000000  0.000000  0.086598  0.000000  \n",
      "2   0.000000  0.000000  0.000000  0.000000  0.169716  0.000000  \n",
      "3   0.000000  0.000000  0.000000  0.000000  0.194358  0.000000  \n",
      "4   0.000000  0.000000  0.000000  0.000000  0.000000  0.000000  \n",
      "5   0.000000  0.000000  0.000000  0.000000  0.000000  0.000000  \n",
      "6   0.157453  0.000000  0.000000  0.000000  0.000000  0.000000  \n",
      "7   0.173069  0.000000  0.000000  0.000000  0.000000  0.000000  \n",
      "8   0.000000  0.000000  0.000000  0.000000  0.000000  0.000000  \n",
      "9   0.000000  0.000000  0.000000  0.337448  0.000000  0.000000  \n",
      "10  0.000000  0.000000  0.000000  0.000000  0.000000  0.000000  \n",
      "11  0.160560  0.000000  0.000000  0.000000  0.000000  0.000000  \n",
      "12  0.000000  0.000000  0.000000  0.000000  0.000000  0.000000  \n",
      "13  0.000000  0.000000  0.000000  0.000000  0.000000  0.000000  \n",
      "14  0.240132  0.000000  0.000000  0.000000  0.000000  0.000000  \n",
      "15  0.000000  0.122116  0.000000  0.000000  0.079391  0.122116  \n",
      "\n",
      "[16 rows x 165 columns]\n",
      "0.63\n",
      "0.23\n",
      "0.27\n",
      "0.28\n",
      "0.35\n",
      "0.21\n",
      "0.37\n",
      "0.23\n",
      "0.24\n",
      "0.16\n",
      "0.00\n",
      "0.30\n",
      "0.34\n",
      "0.37\n"
     ]
    }
   ],
   "source": [
    "def calc_cosine_similarity(answers, model_answer):\n",
    "    # put all data in a list\n",
    "    data_list = list(answers)\n",
    "    data_list.append(model_answer)\n",
    "    \n",
    "    # convert data to matrix\n",
    "    data_matrix = tfidf_vectorizer.fit_transform(data_list)\n",
    "    \n",
    "    # save model answer vector\n",
    "    model_vector = data_matrix[-1]\n",
    "    \n",
    "    # convert matrix to datafarame to see the word frequencies\n",
    "    data_term_matrix = data_matrix.todense()\n",
    "    draft_df = pd.DataFrame(data_term_matrix, columns=tfidf_vectorizer.get_feature_names())\n",
    "    print(draft_df)\n",
    "    \n",
    "    # similarity list\n",
    "    similarity_list = []\n",
    "    \n",
    "    # get similarities\n",
    "    for vector in data_matrix[:-2]:\n",
    "        similarity = cosine_similarity(vector, model_vector)\n",
    "        print('%.2f' % similarity[0][0])\n",
    "        \n",
    "        similarity_list.append(similarity[0][0]*3)\n",
    "    \n",
    "calc_cosine_similarity(answers, model_answer)"
   ]
  },
  {
   "cell_type": "markdown",
   "metadata": {},
   "source": [
    "## Soft Cosine Similarity\n",
    "### consider the semantic meaning (FastText embedding)"
   ]
  },
  {
   "cell_type": "code",
   "execution_count": 12,
   "metadata": {},
   "outputs": [
    {
     "name": "stdout",
     "output_type": "stream",
     "text": [
      "3.8.0\n"
     ]
    }
   ],
   "source": [
    "import gensim\n",
    "from gensim.matutils import softcossim \n",
    "from gensim import corpora\n",
    "import gensim.downloader as api\n",
    "from gensim.utils import simple_preprocess\n",
    "print(gensim.__version__)\n",
    "\n",
    "# Download the FastText model\n",
    "# fasttext_model300 = api.load('fasttext-wiki-news-subwords-300')\n",
    "\n",
    "# from gensim.models.wrappers import FastText\n",
    "# model = FastText.load_fasttext_format('wiki-news-300d-1M-subword')"
   ]
  },
  {
   "cell_type": "code",
   "execution_count": null,
   "metadata": {},
   "outputs": [],
   "source": [
    "documents = list(answers)\n",
    "documents.append(model_answer)\n",
    "\n",
    "# Prepare a dictionary and a corpus.\n",
    "dictionary = corpora.Dictionary([simple_preprocess(doc) for doc in documents])\n",
    "\n",
    "# Prepare the similarity matrix\n",
    "# similarity_matrix = fasttext_model300.similarity_matrix(dictionary, tfidf=None, threshold=0.0, exponent=2.0, nonzero_limit=10"
   ]
  },
  {
   "cell_type": "markdown",
   "metadata": {},
   "source": [
    "## Fuzzy Wuzzy"
   ]
  },
  {
   "cell_type": "code",
   "execution_count": 18,
   "metadata": {},
   "outputs": [],
   "source": [
    "from fuzzywuzzy import fuzz"
   ]
  },
  {
   "cell_type": "code",
   "execution_count": 24,
   "metadata": {},
   "outputs": [
    {
     "name": "stdout",
     "output_type": "stream",
     "text": [
      "64\n",
      "56\n",
      "58\n",
      "58\n",
      "47\n",
      "46\n",
      "54\n",
      "54\n",
      "43\n",
      "69\n",
      "23\n",
      "51\n",
      "48\n",
      "68\n",
      "55\n"
     ]
    }
   ],
   "source": [
    "for answer in answers:\n",
    "    ratio = fuzz.token_set_ratio(answer, model_answer)\n",
    "    print(ratio)\n",
    "    \n",
    "# seems good"
   ]
  },
  {
   "cell_type": "code",
   "execution_count": 20,
   "metadata": {},
   "outputs": [
    {
     "name": "stdout",
     "output_type": "stream",
     "text": [
      "465\n",
      "213\n",
      "227\n",
      "196\n",
      "214\n",
      "269\n",
      "214\n",
      "239\n",
      "232\n",
      "272\n",
      "284\n",
      "224\n",
      "240\n",
      "249\n",
      "254\n"
     ]
    }
   ],
   "source": [
    "from strsimpy.levenshtein import Levenshtein\n",
    "levenshtein = Levenshtein()\n",
    "\n",
    "for answer in answers:\n",
    "    print(levenshtein.distance(answer, model_answer))\n",
    "    \n",
    "# can't understand"
   ]
  },
  {
   "cell_type": "code",
   "execution_count": 23,
   "metadata": {},
   "outputs": [
    {
     "name": "stdout",
     "output_type": "stream",
     "text": [
      "normalized_levenshtein_distance:  0.6899109792284867\n",
      "normalized_levenshtein_distance:  0.6677115987460815\n",
      "normalized_levenshtein_distance:  0.7115987460815048\n",
      "normalized_levenshtein_distance:  0.6144200626959248\n",
      "normalized_levenshtein_distance:  0.670846394984326\n",
      "normalized_levenshtein_distance:  0.8432601880877743\n",
      "normalized_levenshtein_distance:  0.670846394984326\n",
      "normalized_levenshtein_distance:  0.7492163009404389\n",
      "normalized_levenshtein_distance:  0.7272727272727273\n",
      "normalized_levenshtein_distance:  0.8526645768025078\n",
      "normalized_levenshtein_distance:  0.890282131661442\n",
      "normalized_levenshtein_distance:  0.7021943573667712\n",
      "normalized_levenshtein_distance:  0.7523510971786834\n",
      "normalized_levenshtein_distance:  0.780564263322884\n",
      "normalized_levenshtein_distance:  0.7962382445141066\n",
      "normalized_levenshtein_similarity:  0.31008902077151335\n",
      "normalized_levenshtein_similarity:  0.33228840125391845\n",
      "normalized_levenshtein_similarity:  0.28840125391849525\n",
      "normalized_levenshtein_similarity:  0.38557993730407525\n",
      "normalized_levenshtein_similarity:  0.32915360501567403\n",
      "normalized_levenshtein_similarity:  0.15673981191222575\n",
      "normalized_levenshtein_similarity:  0.32915360501567403\n",
      "normalized_levenshtein_similarity:  0.2507836990595611\n",
      "normalized_levenshtein_similarity:  0.2727272727272727\n",
      "normalized_levenshtein_similarity:  0.14733542319749215\n",
      "normalized_levenshtein_similarity:  0.10971786833855801\n",
      "normalized_levenshtein_similarity:  0.29780564263322884\n",
      "normalized_levenshtein_similarity:  0.24764890282131657\n",
      "normalized_levenshtein_similarity:  0.21943573667711602\n",
      "normalized_levenshtein_similarity:  0.20376175548589337\n"
     ]
    }
   ],
   "source": [
    "from strsimpy.normalized_levenshtein import NormalizedLevenshtein\n",
    "normalized_levenshtein = NormalizedLevenshtein()\n",
    "\n",
    "for answer in answers:\n",
    "    print('normalized_levenshtein_distance: ', normalized_levenshtein.distance(answer, model_answer))\n",
    "    \n",
    "for answer in answers:\n",
    "    print('normalized_levenshtein_similarity: ', normalized_levenshtein.similarity(answer, model_answer))\n",
    "    \n",
    "# Very bad"
   ]
  },
  {
   "cell_type": "code",
   "execution_count": 25,
   "metadata": {},
   "outputs": [
    {
     "name": "stdout",
     "output_type": "stream",
     "text": [
      "0.6667781398475731\n",
      "0.6820745771895198\n",
      "0.6996770224497025\n",
      "0.7276719522338517\n",
      "0.6516570964753798\n",
      "0.5807410979824773\n",
      "0.6780682837175868\n",
      "0.6325241358800535\n",
      "0.6248073703579822\n",
      "0.6339977524102443\n",
      "0.579427581109667\n",
      "0.6698087957616088\n",
      "0.6064938058311211\n",
      "0.5995425236384025\n",
      "0.6090463735821027\n"
     ]
    }
   ],
   "source": [
    "from strsimpy.jaro_winkler import JaroWinkler\n",
    "jarowinkler = JaroWinkler()\n",
    "\n",
    "for answer in answers:\n",
    "    print(jarowinkler.similarity(answer, model_answer))\n",
    "    \n",
    "# not soo bad"
   ]
  },
  {
   "cell_type": "code",
   "execution_count": 26,
   "metadata": {},
   "outputs": [
    {
     "name": "stdout",
     "output_type": "stream",
     "text": [
      "557\n",
      "299\n",
      "317\n",
      "269\n",
      "239\n",
      "280\n",
      "275\n",
      "293\n",
      "267\n",
      "278\n",
      "290\n",
      "284\n",
      "260\n",
      "267\n",
      "270\n"
     ]
    }
   ],
   "source": [
    "from strsimpy.longest_common_subsequence import LongestCommonSubsequence\n",
    "lcs = LongestCommonSubsequence()\n",
    "\n",
    "for answer in answers:\n",
    "    print(lcs.distance(answer, model_answer))"
   ]
  },
  {
   "cell_type": "code",
   "execution_count": 28,
   "metadata": {},
   "outputs": [
    {
     "name": "stdout",
     "output_type": "stream",
     "text": [
      "0.6765578635014837\n",
      "0.554858934169279\n",
      "0.5579937304075235\n",
      "0.5391849529780564\n",
      "0.6489028213166144\n",
      "0.8369905956112853\n",
      "0.6363636363636364\n",
      "0.7304075235109717\n",
      "0.7241379310344828\n",
      "0.8526645768025078\n",
      "0.890282131661442\n",
      "0.677115987460815\n",
      "0.7398119122257053\n",
      "0.780564263322884\n",
      "0.7931034482758621\n"
     ]
    }
   ],
   "source": [
    "from strsimpy.metric_lcs import MetricLCS\n",
    "metric_lcs = MetricLCS()\n",
    "\n",
    "for answer in answers:\n",
    "    print(metric_lcs.distance(answer, model_answer))\n",
    "    \n",
    "# soo bad"
   ]
  },
  {
   "cell_type": "code",
   "execution_count": 30,
   "metadata": {},
   "outputs": [
    {
     "name": "stdout",
     "output_type": "stream",
     "text": [
      "0.7298466864490603\n",
      "0.7163009404388715\n",
      "0.7332810867293625\n",
      "0.6739811912225705\n",
      "0.6956635318704284\n",
      "0.7068965517241379\n",
      "0.7168234064785789\n",
      "0.7476489028213166\n",
      "0.6943573667711599\n",
      "0.6896551724137931\n",
      "0.7594043887147336\n",
      "0.7609717868338558\n",
      "0.7170846394984326\n",
      "0.664576802507837\n",
      "0.7037617554858934\n"
     ]
    }
   ],
   "source": [
    "from strsimpy.ngram import NGram\n",
    "gram = NGram(4)\n",
    "\n",
    "for answer in answers:\n",
    "    print(gram.distance(answer, model_answer))"
   ]
  },
  {
   "cell_type": "code",
   "execution_count": 31,
   "metadata": {},
   "outputs": [
    {
     "name": "stdout",
     "output_type": "stream",
     "text": [
      "435\n",
      "292\n",
      "266\n",
      "237\n",
      "250\n",
      "271\n",
      "246\n",
      "274\n",
      "277\n",
      "279\n",
      "305\n",
      "261\n",
      "263\n",
      "266\n",
      "275\n"
     ]
    }
   ],
   "source": [
    "from strsimpy.qgram import QGram\n",
    "qgram = QGram(2)\n",
    "\n",
    "for answer in answers:\n",
    "    print(qgram.distance(answer, model_answer))"
   ]
  },
  {
   "cell_type": "markdown",
   "metadata": {},
   "source": [
    "# 2._Read Mohler data_"
   ]
  },
  {
   "cell_type": "code",
   "execution_count": 3,
   "metadata": {},
   "outputs": [
    {
     "name": "stdout",
     "output_type": "stream",
     "text": [
      "<bound method NDFrame.head of                                             questions  \\\n",
      "0    What is the role of a prototype program in pr...   \n",
      "1    What stages in the software life cycle are in...   \n",
      "2    What are the main advantages associated with ...   \n",
      "3     Where do C plus plus programs begin to execute?   \n",
      "4                                 What is a variable?   \n",
      "..                                                ...   \n",
      "82                                   What is a queue?   \n",
      "83   What are the main operations associated with ...   \n",
      "84        What is the Euler tour traversal of a tree?   \n",
      "85   How do you delete a node from a binary search...   \n",
      "86   How many steps does it take to search a node ...   \n",
      "\n",
      "                                              answers  \n",
      "0    To simulate the behaviour of portions of the ...  \n",
      "1    The testing stage can influence both the codi...  \n",
      "2                        Abstraction and reusability.  \n",
      "3                               At the main function.  \n",
      "4        A location in memory that can store a value.  \n",
      "..                                                ...  \n",
      "82   A data structure that stores elements followi...  \n",
      "83                                       push and pop  \n",
      "84   A walk around the tree, starting with the roo...  \n",
      "85   Find the node, then replace it with the leftm...  \n",
      "86                            The height of the tree.  \n",
      "\n",
      "[87 rows x 2 columns]>\n"
     ]
    }
   ],
   "source": [
    "instructor_data = pd.read_csv('instructor_data.csv')\n",
    "print(instructor_data.head)"
   ]
  },
  {
   "cell_type": "code",
   "execution_count": 7,
   "metadata": {},
   "outputs": [
    {
     "name": "stdout",
     "output_type": "stream",
     "text": [
      "0      To simulate the behaviour of portions of the ...\n",
      "1      The testing stage can influence both the codi...\n",
      "2                          Abstraction and reusability.\n",
      "3                                 At the main function.\n",
      "4          A location in memory that can store a value.\n",
      "                            ...                        \n",
      "82     A data structure that stores elements followi...\n",
      "83                                         push and pop\n",
      "84     A walk around the tree, starting with the roo...\n",
      "85     Find the node, then replace it with the leftm...\n",
      "86                              The height of the tree.\n",
      "Name: answers, Length: 87, dtype: object\n"
     ]
    }
   ],
   "source": [
    "model_answers = instructor_data.answers\n",
    "print(model_answers)"
   ]
  },
  {
   "cell_type": "markdown",
   "metadata": {},
   "source": [
    "## _read student answers_"
   ]
  },
  {
   "cell_type": "code",
   "execution_count": 12,
   "metadata": {},
   "outputs": [],
   "source": [
    "import os"
   ]
  },
  {
   "cell_type": "code",
   "execution_count": 29,
   "metadata": {},
   "outputs": [],
   "source": [
    "answers_dir = 'student_answers/'"
   ]
  },
  {
   "cell_type": "markdown",
   "metadata": {},
   "source": [
    "## _first solution: os.walk_"
   ]
  },
  {
   "cell_type": "code",
   "execution_count": 47,
   "metadata": {},
   "outputs": [
    {
     "name": "stdout",
     "output_type": "stream",
     "text": [
      "                                              answers  score\n",
      "0    High risk problems are address in the prototy...    3.5\n",
      "1    To simulate portions of the desired final pro...    5.0\n",
      "2    A prototype program simulates the behaviors o...    4.0\n",
      "3    Defined in the Specification phase a prototyp...    5.0\n",
      "4    It is used to let the users have a first idea...    3.0\n",
      "5    To find problem and errors in a program befor...    2.0\n",
      "6    To address major issues in the creation of th...    2.5\n",
      "7    you can break the whole program into prototyp...    5.0\n",
      "8    -To provide an example or model of how the fi...    3.5\n",
      "9    Simulating the behavior of only a portion of ...    5.0\n",
      "10   A program that stimulates the behavior of por...    5.0\n",
      "11   A program that simulates the behavior of port...    5.0\n",
      "12   To lay out the basics and give you a starting...    2.0\n",
      "13   To simulate problem solving for parts of the ...    4.5\n",
      "14   A prototype program provides a basic groundwo...    2.0\n",
      "15   A prototype program is a part of the Specific...    4.5\n",
      "16   Program that simulates the behavior of portio...    5.0\n",
      "17   it provides a limited proof of concept to ver...    2.0\n",
      "18   It tests the main function of the program whi...    2.0\n",
      "19   To get early feedback from users in early sta...    2.5\n",
      "20   it simulates the behavior of portions of the ...    5.0\n",
      "21   It simulates the behavior of portions of the ...    5.0\n",
      "22   A prototype program is used in problem solvin...    1.5\n",
      "23   To ease the understanding of problem under di...    2.5\n",
      "24   it simulates the behavior of portions of the ...    5.0\n",
      "25   The role of a prototype program is to help sp...    2.0\n",
      "26   the prototype program gives a general idea of...    3.0\n",
      "27   to show that a certain part of the program wo...    3.0\n",
      "28   Prototype programming is an approach to progr...    2.5\n"
     ]
    }
   ],
   "source": [
    "answers_list1 = []\n",
    "\n",
    "for subdir, dirs, files in os.walk(answers_dir):\n",
    "    # print(subdir)\n",
    "    # print(dirs)\n",
    "    # print(files)\n",
    "    \n",
    "    for file in files:\n",
    "        student_answers = pd.read_csv('student_answers/' + file)\n",
    "        answers_list1.append(student_answers)\n",
    "\n",
    "print(answers_list1[0])"
   ]
  },
  {
   "cell_type": "markdown",
   "metadata": {},
   "source": [
    "## _second solution: os.listdir_"
   ]
  },
  {
   "cell_type": "code",
   "execution_count": 48,
   "metadata": {},
   "outputs": [
    {
     "name": "stdout",
     "output_type": "stream",
     "text": [
      "                                              answers  score\n",
      "0    Simulating the behavior of only a portion of ...    5.0\n",
      "1    it simulates the behavior of portions of the ...    5.0\n",
      "2    Program that simulates the behavior of portio...    5.0\n",
      "3    To simulate portions of the desired final pro...    5.0\n",
      "4    it simulates the behavior of portions of the ...    5.0\n",
      "5    A program that simulates the behavior of port...    5.0\n",
      "6    A program that stimulates the behavior of por...    5.0\n",
      "7    It simulates the behavior of portions of the ...    5.0\n",
      "8    you can break the whole program into prototyp...    5.0\n",
      "9    Defined in the Specification phase a prototyp...    5.0\n",
      "10   To simulate problem solving for parts of the ...    4.5\n",
      "11   A prototype program is a part of the Specific...    4.5\n",
      "12   A prototype program simulates the behaviors o...    4.0\n",
      "13   -To provide an example or model of how the fi...    3.5\n",
      "14   High risk problems are address in the prototy...    3.5\n",
      "15   the prototype program gives a general idea of...    3.0\n",
      "16   to show that a certain part of the program wo...    3.0\n",
      "17   It is used to let the users have a first idea...    3.0\n",
      "18   To ease the understanding of problem under di...    2.5\n",
      "19   Prototype programming is an approach to progr...    2.5\n",
      "20   To get early feedback from users in early sta...    2.5\n",
      "21   To address major issues in the creation of th...    2.5\n",
      "22   It tests the main function of the program whi...    2.0\n",
      "23   it provides a limited proof of concept to ver...    2.0\n",
      "24   To lay out the basics and give you a starting...    2.0\n",
      "25   The role of a prototype program is to help sp...    2.0\n",
      "26   To find problem and errors in a program befor...    2.0\n",
      "27   A prototype program provides a basic groundwo...    2.0\n",
      "28   A prototype program is used in problem solvin...    1.5\n"
     ]
    }
   ],
   "source": [
    "answers_list2 = []\n",
    "\n",
    "for file in os.listdir(answers_dir):\n",
    "    if file.endswith(\".csv\"):\n",
    "        # print(file)\n",
    "        \n",
    "        student_answers = pd.read_csv('student_answers/' + file)\n",
    "        # sort values\n",
    "        student_answers.sort_values(by=['score'], ascending=False, inplace=True)\n",
    "        student_answers.reset_index(drop=True, inplace=True)\n",
    "        # add to list\n",
    "        answers_list2.append(student_answers)\n",
    "\n",
    "print(answers_list2[0])"
   ]
  },
  {
   "cell_type": "markdown",
   "metadata": {},
   "source": [
    "## _spaCy similarity on Mohler data_"
   ]
  },
  {
   "cell_type": "code",
   "execution_count": 53,
   "metadata": {
    "scrolled": false
   },
   "outputs": [
    {
     "name": "stdout",
     "output_type": "stream",
     "text": [
      "4.88\n",
      "4.89\n",
      "4.83\n",
      "4.43\n",
      "4.89\n",
      "4.84\n",
      "4.80\n",
      "4.92\n",
      "4.41\n",
      "4.64\n",
      "4.29\n",
      "4.45\n",
      "4.81\n",
      "4.41\n",
      "4.35\n",
      "4.40\n",
      "4.25\n",
      "4.53\n",
      "4.47\n",
      "4.35\n",
      "4.30\n",
      "4.36\n",
      "4.45\n",
      "4.47\n",
      "4.25\n",
      "4.42\n",
      "4.09\n",
      "4.25\n",
      "4.29\n"
     ]
    }
   ],
   "source": [
    "model_answer_doc = nlp(model_answers[0])\n",
    "answers = answers_list2[0]['answers']\n",
    "\n",
    "for answer in answers:\n",
    "    doc = nlp(answer)\n",
    "    ratio = doc.similarity(model_answer_doc)\n",
    "    \n",
    "    print('%.2f' % (ratio*5))\n",
    "    \n",
    "# soo bad"
   ]
  },
  {
   "cell_type": "markdown",
   "metadata": {},
   "source": [
    "## _Cosine Similartiy on Mohler data_"
   ]
  },
  {
   "cell_type": "code",
   "execution_count": 85,
   "metadata": {},
   "outputs": [],
   "source": [
    "import math"
   ]
  },
  {
   "cell_type": "code",
   "execution_count": 114,
   "metadata": {},
   "outputs": [
    {
     "name": "stdout",
     "output_type": "stream",
     "text": [
      "question_index:  0 \t real score:  5.0 \t estimated score:  5.0\n",
      "question_index:  1 \t real score:  5.0 \t estimated score:  5.0\n",
      "question_index:  2 \t real score:  5.0 \t estimated score:  5.0\n",
      "question_index:  3 \t real score:  5.0 \t estimated score:  4.0\n",
      "question_index:  4 \t real score:  5.0 \t estimated score:  5.0\n",
      "question_index:  5 \t real score:  5.0 \t estimated score:  5.0\n",
      "question_index:  6 \t real score:  5.0 \t estimated score:  5.0\n",
      "question_index:  7 \t real score:  5.0 \t estimated score:  5.0\n",
      "question_index:  8 \t real score:  5.0 \t estimated score:  4.0\n",
      "question_index:  9 \t real score:  5.0 \t estimated score:  5.0\n",
      "question_index:  10 \t real score:  4.5 \t estimated score:  4.0\n",
      "question_index:  11 \t real score:  4.5 \t estimated score:  4.0\n",
      "question_index:  12 \t real score:  4.0 \t estimated score:  5.0\n",
      "question_index:  13 \t real score:  3.5 \t estimated score:  4.0\n",
      "question_index:  14 \t real score:  3.5 \t estimated score:  3.0\n",
      "question_index:  15 \t real score:  3.0 \t estimated score:  4.0\n",
      "question_index:  16 \t real score:  3.0 \t estimated score:  3.0\n",
      "question_index:  17 \t real score:  3.0 \t estimated score:  4.0\n",
      "question_index:  18 \t real score:  2.5 \t estimated score:  4.0\n",
      "question_index:  19 \t real score:  2.5 \t estimated score:  3.0\n",
      "question_index:  20 \t real score:  2.5 \t estimated score:  3.0\n",
      "question_index:  21 \t real score:  2.5 \t estimated score:  4.0\n",
      "question_index:  22 \t real score:  2.0 \t estimated score:  4.0\n",
      "question_index:  23 \t real score:  2.0 \t estimated score:  4.0\n",
      "question_index:  24 \t real score:  2.0 \t estimated score:  3.0\n",
      "question_index:  25 \t real score:  2.0 \t estimated score:  4.0\n",
      "question_index:  26 \t real score:  2.0 \t estimated score:  2.0\n",
      "question_index:  27 \t real score:  2.0 \t estimated score:  2.0\n",
      "question_index:  28 \t real score:  1.5 \t estimated score:  2.0\n"
     ]
    }
   ],
   "source": [
    "def calc_cosine_similarity2(answers, model_answer):\n",
    "    # put all data in a list\n",
    "    data_list = list(answers)\n",
    "    data_list.append(model_answer)\n",
    "    \n",
    "    # convert data to matrix\n",
    "    data_matrix = count_vectorizer.fit_transform(data_list)\n",
    "    \n",
    "    # save model answer vector\n",
    "    model_vector = data_matrix[-1]\n",
    "    \n",
    "    # convert matrix to datafarame to see the word frequencies\n",
    "    data_term_matrix = data_matrix.todense()\n",
    "    draft_df = pd.DataFrame(data_term_matrix, columns=count_vectorizer.get_feature_names())\n",
    "    # print(draft_df)\n",
    "    \n",
    "    # similarity list\n",
    "    similarity_list = []\n",
    "    \n",
    "    # get similarities\n",
    "    for vector in data_matrix[:-1]:\n",
    "        similarity = cosine_similarity(vector, model_vector)\n",
    "        # print( '%.2f' % (similarity[0][0] * 5 + 1) )\n",
    "        \n",
    "        similarity_list.append( '%.1f' % ( math.ceil( similarity[0][0] * 5 + 1 ) ) )\n",
    "    \n",
    "    return similarity_list\n",
    "\n",
    "\n",
    "\n",
    "# prepare variables\n",
    "model_answer = model_answers[0]\n",
    "answers = answers_list2[0]['answers']\n",
    "# for test\n",
    "# print(answers_list2[0]['score'])\n",
    "\n",
    "# call function\n",
    "cosine_sim = calc_cosine_similarity2(answers, model_answer)\n",
    "\n",
    "\n",
    "for index in range(len(cosine_sim)):\n",
    "    print('question_index: ', index, '\\t', 'real score: ', answers_list2[0]['score'][index], '\\t', 'estimated score: ', cosine_sim[index])"
   ]
  },
  {
   "cell_type": "markdown",
   "metadata": {},
   "source": [
    "# Accuracy"
   ]
  },
  {
   "cell_type": "code",
   "execution_count": 116,
   "metadata": {
    "scrolled": true
   },
   "outputs": [
    {
     "name": "stdout",
     "output_type": "stream",
     "text": [
      "62.07 %\n"
     ]
    }
   ],
   "source": [
    "def calc_accuracy(real_scores, estimated_scores):\n",
    "    counter = 0\n",
    "    \n",
    "    for i in range(len(real_scores)):\n",
    "        re_sc = real_scores[i]\n",
    "        es_sc = float(estimated_scores[i])\n",
    "        if re_sc == es_sc or re_sc-es_sc == 0.5 or es_sc-re_sc == 0.5:\n",
    "            counter += 1\n",
    "    \n",
    "    accuracy = (counter / len(real_scores)) * 100\n",
    "    return accuracy\n",
    "\n",
    "accuracy = calc_accuracy(answers_list2[0]['score'], cosine_sim)\n",
    "print('%.2f' % accuracy, '%')"
   ]
  },
  {
   "cell_type": "code",
   "execution_count": null,
   "metadata": {},
   "outputs": [],
   "source": []
  }
 ],
 "metadata": {
  "kernelspec": {
   "display_name": "Python 3",
   "language": "python",
   "name": "python3"
  },
  "language_info": {
   "codemirror_mode": {
    "name": "ipython",
    "version": 3
   },
   "file_extension": ".py",
   "mimetype": "text/x-python",
   "name": "python",
   "nbconvert_exporter": "python",
   "pygments_lexer": "ipython3",
   "version": "3.7.4"
  }
 },
 "nbformat": 4,
 "nbformat_minor": 4
}
